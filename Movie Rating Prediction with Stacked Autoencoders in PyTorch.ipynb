{
 "cells": [
  {
   "cell_type": "markdown",
   "metadata": {},
   "source": [
    "# Movie Rating Prediction with Stacked Autoencoders in PyTorch"
   ]
  },
  {
   "cell_type": "code",
   "execution_count": 1,
   "metadata": {},
   "outputs": [],
   "source": [
    "import numpy as np\n",
    "import pandas as pd\n",
    "import torch\n",
    "import torch.nn as nn\n",
    "import torch.nn.parallel\n",
    "import torch.optim as optim\n",
    "import torch.utils.data\n",
    "from torch.autograd import Variable\n",
    "from sklearn.model_selection import train_test_split"
   ]
  },
  {
   "cell_type": "code",
   "execution_count": 2,
   "metadata": {},
   "outputs": [
    {
     "name": "stdout",
     "output_type": "stream",
     "text": [
      "cuda\n"
     ]
    }
   ],
   "source": [
    "device = torch.device(\"cuda\" if torch.cuda.is_available() else \"cpu\")\n",
    "print(device)"
   ]
  },
  {
   "cell_type": "code",
   "execution_count": 3,
   "metadata": {},
   "outputs": [],
   "source": [
    "ratings = pd.read_csv('ratings_small.csv')#, engine = 'python')"
   ]
  },
  {
   "cell_type": "code",
   "execution_count": 4,
   "metadata": {
    "scrolled": false
   },
   "outputs": [
    {
     "data": {
      "text/html": [
       "<div>\n",
       "<style scoped>\n",
       "    .dataframe tbody tr th:only-of-type {\n",
       "        vertical-align: middle;\n",
       "    }\n",
       "\n",
       "    .dataframe tbody tr th {\n",
       "        vertical-align: top;\n",
       "    }\n",
       "\n",
       "    .dataframe thead th {\n",
       "        text-align: right;\n",
       "    }\n",
       "</style>\n",
       "<table border=\"1\" class=\"dataframe\">\n",
       "  <thead>\n",
       "    <tr style=\"text-align: right;\">\n",
       "      <th></th>\n",
       "      <th>userId</th>\n",
       "      <th>movieId</th>\n",
       "      <th>rating</th>\n",
       "      <th>timestamp</th>\n",
       "    </tr>\n",
       "  </thead>\n",
       "  <tbody>\n",
       "    <tr>\n",
       "      <th>0</th>\n",
       "      <td>1</td>\n",
       "      <td>31</td>\n",
       "      <td>2.5</td>\n",
       "      <td>1260759144</td>\n",
       "    </tr>\n",
       "    <tr>\n",
       "      <th>1</th>\n",
       "      <td>1</td>\n",
       "      <td>1029</td>\n",
       "      <td>3.0</td>\n",
       "      <td>1260759179</td>\n",
       "    </tr>\n",
       "    <tr>\n",
       "      <th>2</th>\n",
       "      <td>1</td>\n",
       "      <td>1061</td>\n",
       "      <td>3.0</td>\n",
       "      <td>1260759182</td>\n",
       "    </tr>\n",
       "    <tr>\n",
       "      <th>3</th>\n",
       "      <td>1</td>\n",
       "      <td>1129</td>\n",
       "      <td>2.0</td>\n",
       "      <td>1260759185</td>\n",
       "    </tr>\n",
       "    <tr>\n",
       "      <th>4</th>\n",
       "      <td>1</td>\n",
       "      <td>1172</td>\n",
       "      <td>4.0</td>\n",
       "      <td>1260759205</td>\n",
       "    </tr>\n",
       "  </tbody>\n",
       "</table>\n",
       "</div>"
      ],
      "text/plain": [
       "   userId  movieId  rating   timestamp\n",
       "0       1       31     2.5  1260759144\n",
       "1       1     1029     3.0  1260759179\n",
       "2       1     1061     3.0  1260759182\n",
       "3       1     1129     2.0  1260759185\n",
       "4       1     1172     4.0  1260759205"
      ]
     },
     "execution_count": 4,
     "metadata": {},
     "output_type": "execute_result"
    }
   ],
   "source": [
    "ratings.head()"
   ]
  },
  {
   "cell_type": "code",
   "execution_count": 5,
   "metadata": {},
   "outputs": [
    {
     "data": {
      "text/html": [
       "<div>\n",
       "<style scoped>\n",
       "    .dataframe tbody tr th:only-of-type {\n",
       "        vertical-align: middle;\n",
       "    }\n",
       "\n",
       "    .dataframe tbody tr th {\n",
       "        vertical-align: top;\n",
       "    }\n",
       "\n",
       "    .dataframe thead th {\n",
       "        text-align: right;\n",
       "    }\n",
       "</style>\n",
       "<table border=\"1\" class=\"dataframe\">\n",
       "  <thead>\n",
       "    <tr style=\"text-align: right;\">\n",
       "      <th></th>\n",
       "      <th>userId</th>\n",
       "      <th>movieId</th>\n",
       "      <th>rating</th>\n",
       "    </tr>\n",
       "  </thead>\n",
       "  <tbody>\n",
       "    <tr>\n",
       "      <th>0</th>\n",
       "      <td>1</td>\n",
       "      <td>31</td>\n",
       "      <td>2.5</td>\n",
       "    </tr>\n",
       "    <tr>\n",
       "      <th>1</th>\n",
       "      <td>1</td>\n",
       "      <td>1029</td>\n",
       "      <td>3.0</td>\n",
       "    </tr>\n",
       "    <tr>\n",
       "      <th>2</th>\n",
       "      <td>1</td>\n",
       "      <td>1061</td>\n",
       "      <td>3.0</td>\n",
       "    </tr>\n",
       "    <tr>\n",
       "      <th>3</th>\n",
       "      <td>1</td>\n",
       "      <td>1129</td>\n",
       "      <td>2.0</td>\n",
       "    </tr>\n",
       "    <tr>\n",
       "      <th>4</th>\n",
       "      <td>1</td>\n",
       "      <td>1172</td>\n",
       "      <td>4.0</td>\n",
       "    </tr>\n",
       "    <tr>\n",
       "      <th>...</th>\n",
       "      <td>...</td>\n",
       "      <td>...</td>\n",
       "      <td>...</td>\n",
       "    </tr>\n",
       "    <tr>\n",
       "      <th>99999</th>\n",
       "      <td>671</td>\n",
       "      <td>6268</td>\n",
       "      <td>2.5</td>\n",
       "    </tr>\n",
       "    <tr>\n",
       "      <th>100000</th>\n",
       "      <td>671</td>\n",
       "      <td>6269</td>\n",
       "      <td>4.0</td>\n",
       "    </tr>\n",
       "    <tr>\n",
       "      <th>100001</th>\n",
       "      <td>671</td>\n",
       "      <td>6365</td>\n",
       "      <td>4.0</td>\n",
       "    </tr>\n",
       "    <tr>\n",
       "      <th>100002</th>\n",
       "      <td>671</td>\n",
       "      <td>6385</td>\n",
       "      <td>2.5</td>\n",
       "    </tr>\n",
       "    <tr>\n",
       "      <th>100003</th>\n",
       "      <td>671</td>\n",
       "      <td>6565</td>\n",
       "      <td>3.5</td>\n",
       "    </tr>\n",
       "  </tbody>\n",
       "</table>\n",
       "<p>100004 rows × 3 columns</p>\n",
       "</div>"
      ],
      "text/plain": [
       "        userId  movieId  rating\n",
       "0            1       31     2.5\n",
       "1            1     1029     3.0\n",
       "2            1     1061     3.0\n",
       "3            1     1129     2.0\n",
       "4            1     1172     4.0\n",
       "...        ...      ...     ...\n",
       "99999      671     6268     2.5\n",
       "100000     671     6269     4.0\n",
       "100001     671     6365     4.0\n",
       "100002     671     6385     2.5\n",
       "100003     671     6565     3.5\n",
       "\n",
       "[100004 rows x 3 columns]"
      ]
     },
     "execution_count": 5,
     "metadata": {},
     "output_type": "execute_result"
    }
   ],
   "source": [
    "ratings.drop([\"timestamp\"], axis=1)"
   ]
  },
  {
   "cell_type": "code",
   "execution_count": 6,
   "metadata": {
    "scrolled": true
   },
   "outputs": [
    {
     "data": {
      "text/plain": [
       "163949"
      ]
     },
     "execution_count": 6,
     "metadata": {},
     "output_type": "execute_result"
    }
   ],
   "source": [
    "movieMax = max(ratings[\"movieId\"])\n",
    "movieMax"
   ]
  },
  {
   "cell_type": "code",
   "execution_count": 7,
   "metadata": {},
   "outputs": [
    {
     "data": {
      "text/plain": [
       "671"
      ]
     },
     "execution_count": 7,
     "metadata": {},
     "output_type": "execute_result"
    }
   ],
   "source": [
    "userMax = max(ratings[\"userId\"])\n",
    "userMax"
   ]
  },
  {
   "cell_type": "code",
   "execution_count": 8,
   "metadata": {},
   "outputs": [
    {
     "data": {
      "text/html": [
       "<div>\n",
       "<style scoped>\n",
       "    .dataframe tbody tr th:only-of-type {\n",
       "        vertical-align: middle;\n",
       "    }\n",
       "\n",
       "    .dataframe tbody tr th {\n",
       "        vertical-align: top;\n",
       "    }\n",
       "\n",
       "    .dataframe thead th {\n",
       "        text-align: right;\n",
       "    }\n",
       "</style>\n",
       "<table border=\"1\" class=\"dataframe\">\n",
       "  <thead>\n",
       "    <tr style=\"text-align: right;\">\n",
       "      <th></th>\n",
       "      <th>userId</th>\n",
       "      <th>movieId</th>\n",
       "      <th>rating</th>\n",
       "      <th>timestamp</th>\n",
       "    </tr>\n",
       "  </thead>\n",
       "  <tbody>\n",
       "    <tr>\n",
       "      <th>147</th>\n",
       "      <td>4</td>\n",
       "      <td>10</td>\n",
       "      <td>4.0</td>\n",
       "      <td>949810645</td>\n",
       "    </tr>\n",
       "    <tr>\n",
       "      <th>148</th>\n",
       "      <td>4</td>\n",
       "      <td>34</td>\n",
       "      <td>5.0</td>\n",
       "      <td>949919556</td>\n",
       "    </tr>\n",
       "    <tr>\n",
       "      <th>149</th>\n",
       "      <td>4</td>\n",
       "      <td>112</td>\n",
       "      <td>5.0</td>\n",
       "      <td>949810582</td>\n",
       "    </tr>\n",
       "    <tr>\n",
       "      <th>150</th>\n",
       "      <td>4</td>\n",
       "      <td>141</td>\n",
       "      <td>5.0</td>\n",
       "      <td>949919681</td>\n",
       "    </tr>\n",
       "    <tr>\n",
       "      <th>151</th>\n",
       "      <td>4</td>\n",
       "      <td>153</td>\n",
       "      <td>4.0</td>\n",
       "      <td>949811346</td>\n",
       "    </tr>\n",
       "    <tr>\n",
       "      <th>...</th>\n",
       "      <td>...</td>\n",
       "      <td>...</td>\n",
       "      <td>...</td>\n",
       "      <td>...</td>\n",
       "    </tr>\n",
       "    <tr>\n",
       "      <th>346</th>\n",
       "      <td>4</td>\n",
       "      <td>3251</td>\n",
       "      <td>5.0</td>\n",
       "      <td>949918970</td>\n",
       "    </tr>\n",
       "    <tr>\n",
       "      <th>347</th>\n",
       "      <td>4</td>\n",
       "      <td>3255</td>\n",
       "      <td>4.0</td>\n",
       "      <td>949919738</td>\n",
       "    </tr>\n",
       "    <tr>\n",
       "      <th>348</th>\n",
       "      <td>4</td>\n",
       "      <td>3263</td>\n",
       "      <td>3.0</td>\n",
       "      <td>949919845</td>\n",
       "    </tr>\n",
       "    <tr>\n",
       "      <th>349</th>\n",
       "      <td>4</td>\n",
       "      <td>3265</td>\n",
       "      <td>5.0</td>\n",
       "      <td>949895732</td>\n",
       "    </tr>\n",
       "    <tr>\n",
       "      <th>350</th>\n",
       "      <td>4</td>\n",
       "      <td>4006</td>\n",
       "      <td>2.0</td>\n",
       "      <td>949982238</td>\n",
       "    </tr>\n",
       "  </tbody>\n",
       "</table>\n",
       "<p>204 rows × 4 columns</p>\n",
       "</div>"
      ],
      "text/plain": [
       "     userId  movieId  rating  timestamp\n",
       "147       4       10     4.0  949810645\n",
       "148       4       34     5.0  949919556\n",
       "149       4      112     5.0  949810582\n",
       "150       4      141     5.0  949919681\n",
       "151       4      153     4.0  949811346\n",
       "..      ...      ...     ...        ...\n",
       "346       4     3251     5.0  949918970\n",
       "347       4     3255     4.0  949919738\n",
       "348       4     3263     3.0  949919845\n",
       "349       4     3265     5.0  949895732\n",
       "350       4     4006     2.0  949982238\n",
       "\n",
       "[204 rows x 4 columns]"
      ]
     },
     "execution_count": 8,
     "metadata": {},
     "output_type": "execute_result"
    }
   ],
   "source": [
    "user1 = ratings.loc[ratings[\"userId\"] == 4]\n",
    "user1"
   ]
  },
  {
   "cell_type": "code",
   "execution_count": 9,
   "metadata": {},
   "outputs": [
    {
     "data": {
      "text/plain": [
       "1"
      ]
     },
     "execution_count": 9,
     "metadata": {},
     "output_type": "execute_result"
    }
   ],
   "source": [
    "movieMin = min(ratings[\"movieId\"])\n",
    "movieMin"
   ]
  },
  {
   "cell_type": "code",
   "execution_count": 10,
   "metadata": {},
   "outputs": [
    {
     "data": {
      "text/plain": [
       "20     10\n",
       "21     17\n",
       "22     39\n",
       "23     47\n",
       "24     50\n",
       "     ... \n",
       "91    592\n",
       "92    593\n",
       "93    616\n",
       "94    661\n",
       "95    720\n",
       "Name: movieId, Length: 76, dtype: int64"
      ]
     },
     "execution_count": 10,
     "metadata": {},
     "output_type": "execute_result"
    }
   ],
   "source": [
    "id_movies = ratings.loc[ratings[\"userId\"] == 2][\"movieId\"]\n",
    "id_movies"
   ]
  },
  {
   "cell_type": "code",
   "execution_count": 11,
   "metadata": {
    "scrolled": true
   },
   "outputs": [
    {
     "data": {
      "text/plain": [
       "[4.0,\n",
       " 5.0,\n",
       " 5.0,\n",
       " 4.0,\n",
       " 4.0,\n",
       " 3.0,\n",
       " 3.0,\n",
       " 4.0,\n",
       " 3.0,\n",
       " 5.0,\n",
       " 4.0,\n",
       " 3.0,\n",
       " 3.0,\n",
       " 3.0,\n",
       " 3.0,\n",
       " 3.0,\n",
       " 3.0,\n",
       " 5.0,\n",
       " 1.0,\n",
       " 3.0,\n",
       " 3.0,\n",
       " 3.0,\n",
       " 4.0,\n",
       " 4.0,\n",
       " 5.0,\n",
       " 5.0,\n",
       " 3.0,\n",
       " 4.0,\n",
       " 3.0,\n",
       " 4.0,\n",
       " 3.0,\n",
       " 4.0,\n",
       " 2.0,\n",
       " 1.0,\n",
       " 3.0,\n",
       " 4.0,\n",
       " 4.0,\n",
       " 3.0,\n",
       " 3.0,\n",
       " 3.0,\n",
       " 3.0,\n",
       " 2.0,\n",
       " 3.0,\n",
       " 3.0,\n",
       " 3.0,\n",
       " 3.0,\n",
       " 2.0,\n",
       " 3.0,\n",
       " 4.0,\n",
       " 3.0,\n",
       " 4.0,\n",
       " 2.0,\n",
       " 4.0,\n",
       " 3.0,\n",
       " 3.0,\n",
       " 4.0,\n",
       " 4.0,\n",
       " 4.0,\n",
       " 4.0,\n",
       " 4.0,\n",
       " 4.0,\n",
       " 3.0,\n",
       " 3.0,\n",
       " 5.0,\n",
       " 3.0,\n",
       " 5.0,\n",
       " 3.0,\n",
       " 3.0,\n",
       " 3.0,\n",
       " 5.0,\n",
       " 5.0,\n",
       " 5.0,\n",
       " 3.0,\n",
       " 3.0,\n",
       " 4.0,\n",
       " 4.0]"
      ]
     },
     "execution_count": 11,
     "metadata": {},
     "output_type": "execute_result"
    }
   ],
   "source": [
    "id_ratings = list(ratings.loc[ratings[\"userId\"] == 2][\"rating\"])\n",
    "id_ratings"
   ]
  },
  {
   "cell_type": "code",
   "execution_count": 12,
   "metadata": {},
   "outputs": [],
   "source": [
    "def convert(data):\n",
    "    new_data = []\n",
    "    for user in range(1, max(ratings[\"userId\"]+1)):\n",
    "        id_movies = data.loc[ratings[\"userId\"] == user][\"movieId\"]\n",
    "        id_ratings = data.loc[ratings[\"userId\"] == user][\"rating\"]\n",
    "        userRatings = np.zeros(movieMax)\n",
    "        userRatings[id_movies-1] = id_ratings\n",
    "        new_data.append(userRatings)\n",
    "    return(new_data)"
   ]
  },
  {
   "cell_type": "code",
   "execution_count": 13,
   "metadata": {},
   "outputs": [],
   "source": [
    "ratings = convert(ratings)"
   ]
  },
  {
   "cell_type": "code",
   "execution_count": 14,
   "metadata": {
    "scrolled": false
   },
   "outputs": [
    {
     "data": {
      "text/plain": [
       "array([[0., 0., 0., ..., 0., 0., 0.],\n",
       "       [0., 0., 0., ..., 0., 0., 0.],\n",
       "       [0., 0., 0., ..., 0., 0., 0.],\n",
       "       ...,\n",
       "       [0., 0., 0., ..., 0., 0., 0.],\n",
       "       [4., 0., 0., ..., 0., 0., 0.],\n",
       "       [5., 0., 0., ..., 0., 0., 0.]])"
      ]
     },
     "execution_count": 14,
     "metadata": {},
     "output_type": "execute_result"
    }
   ],
   "source": [
    "ratings = np.asarray(ratings)\n",
    "ratings"
   ]
  },
  {
   "cell_type": "code",
   "execution_count": 15,
   "metadata": {},
   "outputs": [],
   "source": [
    "x_train ,x_test = train_test_split(ratings, test_size=0.2)"
   ]
  },
  {
   "cell_type": "code",
   "execution_count": 16,
   "metadata": {},
   "outputs": [
    {
     "data": {
      "text/plain": [
       "163949"
      ]
     },
     "execution_count": 16,
     "metadata": {},
     "output_type": "execute_result"
    }
   ],
   "source": [
    "len(x_train[1])"
   ]
  },
  {
   "cell_type": "code",
   "execution_count": 17,
   "metadata": {
    "scrolled": true
   },
   "outputs": [
    {
     "data": {
      "text/plain": [
       "135"
      ]
     },
     "execution_count": 17,
     "metadata": {},
     "output_type": "execute_result"
    }
   ],
   "source": [
    "len(x_test)"
   ]
  },
  {
   "cell_type": "code",
   "execution_count": 18,
   "metadata": {},
   "outputs": [],
   "source": [
    "x_train = torch.FloatTensor(x_train)\n",
    "x_test= torch.FloatTensor(x_test)"
   ]
  },
  {
   "cell_type": "code",
   "execution_count": 19,
   "metadata": {},
   "outputs": [],
   "source": [
    "class SAE(nn.Module):\n",
    "    def __init__(self, nb_movies):\n",
    "        super(SAE, self).__init__()\n",
    "        self.fc1 = nn.Linear(nb_movies, 20)\n",
    "        self.fc2 = nn.Linear(20, 10)\n",
    "        self.fc3 = nn.Linear(10, 20)\n",
    "        self.fc4 = nn.Linear(20, nb_movies)\n",
    "        self.activation = nn.Sigmoid()\n",
    "    def forward(self, x):\n",
    "        x = self.activation(self.fc1(x))\n",
    "        x = self.activation(self.fc2(x))\n",
    "        x = self.activation(self.fc3(x))\n",
    "        x = self.fc4(x)\n",
    "        return x"
   ]
  },
  {
   "cell_type": "code",
   "execution_count": 20,
   "metadata": {},
   "outputs": [],
   "source": [
    "sae = SAE(movieMax)"
   ]
  },
  {
   "cell_type": "code",
   "execution_count": 21,
   "metadata": {},
   "outputs": [],
   "source": [
    "#sae.to(device)"
   ]
  },
  {
   "cell_type": "code",
   "execution_count": 22,
   "metadata": {},
   "outputs": [],
   "source": [
    "criterion = nn.MSELoss()\n",
    "optimizer = optim.RMSprop(sae.parameters(), lr = 0.01, weight_decay = 0.5)"
   ]
  },
  {
   "cell_type": "code",
   "execution_count": 23,
   "metadata": {
    "scrolled": true
   },
   "outputs": [
    {
     "data": {
      "text/plain": [
       "536"
      ]
     },
     "execution_count": 23,
     "metadata": {},
     "output_type": "execute_result"
    }
   ],
   "source": [
    "len(x_train)"
   ]
  },
  {
   "cell_type": "code",
   "execution_count": 24,
   "metadata": {
    "scrolled": true
   },
   "outputs": [
    {
     "name": "stdout",
     "output_type": "stream",
     "text": [
      "epoch: 1 loss: tensor(3.7701)\n",
      "epoch: 2 loss: tensor(3.7362)\n",
      "epoch: 3 loss: tensor(3.6991)\n",
      "epoch: 4 loss: tensor(3.6607)\n",
      "epoch: 5 loss: tensor(3.6206)\n",
      "epoch: 6 loss: tensor(3.5783)\n",
      "epoch: 7 loss: tensor(3.5331)\n",
      "epoch: 8 loss: tensor(3.4845)\n",
      "epoch: 9 loss: tensor(3.4320)\n",
      "epoch: 10 loss: tensor(3.3751)\n",
      "epoch: 11 loss: tensor(3.3134)\n",
      "epoch: 12 loss: tensor(3.2469)\n",
      "epoch: 13 loss: tensor(3.1760)\n",
      "epoch: 14 loss: tensor(3.1031)\n",
      "epoch: 15 loss: tensor(3.0316)\n",
      "epoch: 16 loss: tensor(2.9639)\n",
      "epoch: 17 loss: tensor(2.9011)\n",
      "epoch: 18 loss: tensor(2.8429)\n",
      "epoch: 19 loss: tensor(2.7890)\n",
      "epoch: 20 loss: tensor(2.7388)\n",
      "epoch: 21 loss: tensor(2.6919)\n",
      "epoch: 22 loss: tensor(2.6478)\n",
      "epoch: 23 loss: tensor(2.6064)\n",
      "epoch: 24 loss: tensor(2.5672)\n",
      "epoch: 25 loss: tensor(2.5302)\n",
      "epoch: 26 loss: tensor(2.4950)\n",
      "epoch: 27 loss: tensor(2.4616)\n",
      "epoch: 28 loss: tensor(2.4297)\n",
      "epoch: 29 loss: tensor(2.3994)\n",
      "epoch: 30 loss: tensor(2.3703)\n",
      "epoch: 31 loss: tensor(2.3425)\n",
      "epoch: 32 loss: tensor(2.3159)\n",
      "epoch: 33 loss: tensor(2.2903)\n",
      "epoch: 34 loss: tensor(2.2658)\n",
      "epoch: 35 loss: tensor(2.2422)\n",
      "epoch: 36 loss: tensor(2.2195)\n",
      "epoch: 37 loss: tensor(2.1976)\n",
      "epoch: 38 loss: tensor(2.1766)\n",
      "epoch: 39 loss: tensor(2.1562)\n",
      "epoch: 40 loss: tensor(2.1366)\n",
      "epoch: 41 loss: tensor(2.1176)\n",
      "epoch: 42 loss: tensor(2.0992)\n",
      "epoch: 43 loss: tensor(2.0815)\n",
      "epoch: 44 loss: tensor(2.0643)\n",
      "epoch: 45 loss: tensor(2.0476)\n",
      "epoch: 46 loss: tensor(2.0315)\n",
      "epoch: 47 loss: tensor(2.0158)\n",
      "epoch: 48 loss: tensor(2.0006)\n",
      "epoch: 49 loss: tensor(1.9859)\n",
      "epoch: 50 loss: tensor(1.9716)\n",
      "epoch: 51 loss: tensor(1.9576)\n",
      "epoch: 52 loss: tensor(1.9441)\n",
      "epoch: 53 loss: tensor(1.9309)\n",
      "epoch: 54 loss: tensor(1.9181)\n",
      "epoch: 55 loss: tensor(1.9057)\n",
      "epoch: 56 loss: tensor(1.8935)\n",
      "epoch: 57 loss: tensor(1.8817)\n",
      "epoch: 58 loss: tensor(1.8702)\n",
      "epoch: 59 loss: tensor(1.8589)\n",
      "epoch: 60 loss: tensor(1.8480)\n",
      "epoch: 61 loss: tensor(1.8373)\n",
      "epoch: 62 loss: tensor(1.8269)\n",
      "epoch: 63 loss: tensor(1.8167)\n",
      "epoch: 64 loss: tensor(1.8067)\n",
      "epoch: 65 loss: tensor(1.7970)\n",
      "epoch: 66 loss: tensor(1.7875)\n",
      "epoch: 67 loss: tensor(1.7782)\n",
      "epoch: 68 loss: tensor(1.7692)\n",
      "epoch: 69 loss: tensor(1.7603)\n",
      "epoch: 70 loss: tensor(1.7516)\n",
      "epoch: 71 loss: tensor(1.7431)\n",
      "epoch: 72 loss: tensor(1.7348)\n",
      "epoch: 73 loss: tensor(1.7267)\n",
      "epoch: 74 loss: tensor(1.7187)\n",
      "epoch: 75 loss: tensor(1.7109)\n",
      "epoch: 76 loss: tensor(1.7033)\n",
      "epoch: 77 loss: tensor(1.6958)\n",
      "epoch: 78 loss: tensor(1.6885)\n",
      "epoch: 79 loss: tensor(1.6813)\n",
      "epoch: 80 loss: tensor(1.6742)\n",
      "epoch: 81 loss: tensor(1.6673)\n",
      "epoch: 82 loss: tensor(1.6605)\n",
      "epoch: 83 loss: tensor(1.6539)\n",
      "epoch: 84 loss: tensor(1.6474)\n",
      "epoch: 85 loss: tensor(1.6409)\n",
      "epoch: 86 loss: tensor(1.6347)\n",
      "epoch: 87 loss: tensor(1.6285)\n",
      "epoch: 88 loss: tensor(1.6224)\n",
      "epoch: 89 loss: tensor(1.6164)\n",
      "epoch: 90 loss: tensor(1.6106)\n",
      "epoch: 91 loss: tensor(1.6048)\n",
      "epoch: 92 loss: tensor(1.5992)\n",
      "epoch: 93 loss: tensor(1.5936)\n",
      "epoch: 94 loss: tensor(1.5882)\n",
      "epoch: 95 loss: tensor(1.5828)\n",
      "epoch: 96 loss: tensor(1.5775)\n",
      "epoch: 97 loss: tensor(1.5723)\n",
      "epoch: 98 loss: tensor(1.5672)\n",
      "epoch: 99 loss: tensor(1.5622)\n",
      "epoch: 100 loss: tensor(1.5572)\n",
      "epoch: 101 loss: tensor(1.5524)\n",
      "epoch: 102 loss: tensor(1.5476)\n",
      "epoch: 103 loss: tensor(1.5428)\n",
      "epoch: 104 loss: tensor(1.5382)\n",
      "epoch: 105 loss: tensor(1.5336)\n",
      "epoch: 106 loss: tensor(1.5291)\n",
      "epoch: 107 loss: tensor(1.5247)\n",
      "epoch: 108 loss: tensor(1.5203)\n",
      "epoch: 109 loss: tensor(1.5160)\n",
      "epoch: 110 loss: tensor(1.5118)\n",
      "epoch: 111 loss: tensor(1.5076)\n",
      "epoch: 112 loss: tensor(1.5035)\n",
      "epoch: 113 loss: tensor(1.4994)\n",
      "epoch: 114 loss: tensor(1.4954)\n",
      "epoch: 115 loss: tensor(1.4915)\n",
      "epoch: 116 loss: tensor(1.4876)\n",
      "epoch: 117 loss: tensor(1.4837)\n",
      "epoch: 118 loss: tensor(1.4800)\n",
      "epoch: 119 loss: tensor(1.4762)\n",
      "epoch: 120 loss: tensor(1.4726)\n",
      "epoch: 121 loss: tensor(1.4689)\n",
      "epoch: 122 loss: tensor(1.4653)\n",
      "epoch: 123 loss: tensor(1.4618)\n",
      "epoch: 124 loss: tensor(1.4583)\n",
      "epoch: 125 loss: tensor(1.4549)\n",
      "epoch: 126 loss: tensor(1.4515)\n",
      "epoch: 127 loss: tensor(1.4481)\n",
      "epoch: 128 loss: tensor(1.4448)\n",
      "epoch: 129 loss: tensor(1.4415)\n",
      "epoch: 130 loss: tensor(1.4383)\n",
      "epoch: 131 loss: tensor(1.4351)\n",
      "epoch: 132 loss: tensor(1.4320)\n",
      "epoch: 133 loss: tensor(1.4289)\n",
      "epoch: 134 loss: tensor(1.4258)\n",
      "epoch: 135 loss: tensor(1.4228)\n",
      "epoch: 136 loss: tensor(1.4198)\n",
      "epoch: 137 loss: tensor(1.4168)\n",
      "epoch: 138 loss: tensor(1.4139)\n",
      "epoch: 139 loss: tensor(1.4110)\n",
      "epoch: 140 loss: tensor(1.4081)\n",
      "epoch: 141 loss: tensor(1.4053)\n",
      "epoch: 142 loss: tensor(1.4025)\n",
      "epoch: 143 loss: tensor(1.3998)\n",
      "epoch: 144 loss: tensor(1.3971)\n",
      "epoch: 145 loss: tensor(1.3944)\n",
      "epoch: 146 loss: tensor(1.3917)\n",
      "epoch: 147 loss: tensor(1.3891)\n",
      "epoch: 148 loss: tensor(1.3865)\n",
      "epoch: 149 loss: tensor(1.3839)\n",
      "epoch: 150 loss: tensor(1.3813)\n",
      "epoch: 151 loss: tensor(1.3788)\n",
      "epoch: 152 loss: tensor(1.3763)\n",
      "epoch: 153 loss: tensor(1.3739)\n",
      "epoch: 154 loss: tensor(1.3714)\n",
      "epoch: 155 loss: tensor(1.3690)\n",
      "epoch: 156 loss: tensor(1.3666)\n",
      "epoch: 157 loss: tensor(1.3643)\n",
      "epoch: 158 loss: tensor(1.3619)\n",
      "epoch: 159 loss: tensor(1.3596)\n",
      "epoch: 160 loss: tensor(1.3573)\n",
      "epoch: 161 loss: tensor(1.3551)\n",
      "epoch: 162 loss: tensor(1.3528)\n",
      "epoch: 163 loss: tensor(1.3506)\n",
      "epoch: 164 loss: tensor(1.3484)\n",
      "epoch: 165 loss: tensor(1.3462)\n",
      "epoch: 166 loss: tensor(1.3441)\n",
      "epoch: 167 loss: tensor(1.3419)\n",
      "epoch: 168 loss: tensor(1.3398)\n",
      "epoch: 169 loss: tensor(1.3377)\n",
      "epoch: 170 loss: tensor(1.3357)\n",
      "epoch: 171 loss: tensor(1.3336)\n",
      "epoch: 172 loss: tensor(1.3316)\n",
      "epoch: 173 loss: tensor(1.3296)\n",
      "epoch: 174 loss: tensor(1.3276)\n",
      "epoch: 175 loss: tensor(1.3256)\n",
      "epoch: 176 loss: tensor(1.3237)\n",
      "epoch: 177 loss: tensor(1.3218)\n",
      "epoch: 178 loss: tensor(1.3198)\n",
      "epoch: 179 loss: tensor(1.3179)\n",
      "epoch: 180 loss: tensor(1.3161)\n",
      "epoch: 181 loss: tensor(1.3142)\n",
      "epoch: 182 loss: tensor(1.3124)\n",
      "epoch: 183 loss: tensor(1.3105)\n",
      "epoch: 184 loss: tensor(1.3087)\n",
      "epoch: 185 loss: tensor(1.3069)\n",
      "epoch: 186 loss: tensor(1.3051)\n",
      "epoch: 187 loss: tensor(1.3034)\n",
      "epoch: 188 loss: tensor(1.3016)\n",
      "epoch: 189 loss: tensor(1.2999)\n",
      "epoch: 190 loss: tensor(1.2982)\n",
      "epoch: 191 loss: tensor(1.2965)\n",
      "epoch: 192 loss: tensor(1.2948)\n",
      "epoch: 193 loss: tensor(1.2931)\n",
      "epoch: 194 loss: tensor(1.2915)\n",
      "epoch: 195 loss: tensor(1.2898)\n",
      "epoch: 196 loss: tensor(1.2882)\n",
      "epoch: 197 loss: tensor(1.2866)\n",
      "epoch: 198 loss: tensor(1.2850)\n",
      "epoch: 199 loss: tensor(1.2834)\n",
      "epoch: 200 loss: tensor(1.2818)\n"
     ]
    }
   ],
   "source": [
    "#x_train.to(device)\n",
    "#x_test.to(device)\n",
    "nb_epoch = 200\n",
    "for epoch in range(1, nb_epoch + 1):\n",
    "    train_loss = 0\n",
    "    s = 0.\n",
    "    for id_user in range(len(x_train)):\n",
    "        #x_train.to(device)\n",
    "        input1 = Variable(x_train[id_user]).unsqueeze(0)\n",
    "        target = input1.clone()\n",
    "        if torch.sum(target.data > 0) > 0:\n",
    "            output = sae(input1)\n",
    "            target.require_grad = False\n",
    "            output[target == 0] = 0\n",
    "            loss = criterion(output, target)\n",
    "            mean_corrector = movieMax/float(torch.sum(target.data > 0) + 1e-10)\n",
    "            loss.backward()\n",
    "            train_loss += np.sqrt((loss.data)*mean_corrector)\n",
    "            s += 1.\n",
    "            optimizer.step()\n",
    "    print('epoch: '+str(epoch)+' loss: '+str(train_loss/s))"
   ]
  },
  {
   "cell_type": "code",
   "execution_count": 25,
   "metadata": {},
   "outputs": [],
   "source": [
    "#sae.to(\"cpu\")"
   ]
  },
  {
   "cell_type": "code",
   "execution_count": 27,
   "metadata": {},
   "outputs": [
    {
     "ename": "IndexError",
     "evalue": "The shape of the mask [163949] at index 0 does not match the shape of the indexed tensor [1, 163949] at index 0",
     "output_type": "error",
     "traceback": [
      "\u001b[1;31m---------------------------------------------------------------------------\u001b[0m",
      "\u001b[1;31mIndexError\u001b[0m                                Traceback (most recent call last)",
      "\u001b[1;32m<ipython-input-27-3fdabe9433a0>\u001b[0m in \u001b[0;36m<module>\u001b[1;34m\u001b[0m\n\u001b[0;32m      8\u001b[0m         \u001b[0moutput\u001b[0m \u001b[1;33m=\u001b[0m \u001b[0msae\u001b[0m\u001b[1;33m(\u001b[0m\u001b[0minput\u001b[0m\u001b[1;33m)\u001b[0m\u001b[1;33m\u001b[0m\u001b[1;33m\u001b[0m\u001b[0m\n\u001b[0;32m      9\u001b[0m         \u001b[0mtarget\u001b[0m\u001b[1;33m.\u001b[0m\u001b[0mrequire_grad\u001b[0m \u001b[1;33m=\u001b[0m \u001b[1;32mFalse\u001b[0m\u001b[1;33m\u001b[0m\u001b[1;33m\u001b[0m\u001b[0m\n\u001b[1;32m---> 10\u001b[1;33m         \u001b[0moutput\u001b[0m\u001b[1;33m[\u001b[0m\u001b[0mtarget\u001b[0m \u001b[1;33m==\u001b[0m \u001b[1;36m0\u001b[0m\u001b[1;33m]\u001b[0m \u001b[1;33m=\u001b[0m \u001b[1;36m0\u001b[0m\u001b[1;33m\u001b[0m\u001b[1;33m\u001b[0m\u001b[0m\n\u001b[0m\u001b[0;32m     11\u001b[0m         \u001b[0mloss\u001b[0m \u001b[1;33m=\u001b[0m \u001b[0mcriterion\u001b[0m\u001b[1;33m(\u001b[0m\u001b[0moutput\u001b[0m\u001b[1;33m,\u001b[0m \u001b[0mtarget\u001b[0m\u001b[1;33m)\u001b[0m\u001b[1;33m\u001b[0m\u001b[1;33m\u001b[0m\u001b[0m\n\u001b[0;32m     12\u001b[0m         \u001b[0mmean_corrector\u001b[0m \u001b[1;33m=\u001b[0m \u001b[0mnb_movies\u001b[0m\u001b[1;33m/\u001b[0m\u001b[0mfloat\u001b[0m\u001b[1;33m(\u001b[0m\u001b[0mtorch\u001b[0m\u001b[1;33m.\u001b[0m\u001b[0msum\u001b[0m\u001b[1;33m(\u001b[0m\u001b[0mtarget\u001b[0m\u001b[1;33m.\u001b[0m\u001b[0mdata\u001b[0m \u001b[1;33m>\u001b[0m \u001b[1;36m0\u001b[0m\u001b[1;33m)\u001b[0m \u001b[1;33m+\u001b[0m \u001b[1;36m1e-10\u001b[0m\u001b[1;33m)\u001b[0m\u001b[1;33m\u001b[0m\u001b[1;33m\u001b[0m\u001b[0m\n",
      "\u001b[1;31mIndexError\u001b[0m: The shape of the mask [163949] at index 0 does not match the shape of the indexed tensor [1, 163949] at index 0"
     ]
    }
   ],
   "source": [
    "# Testing the SAE\n",
    "test_loss = 0\n",
    "s = 0.\n",
    "for id_user in range(1, len(x_train)):\n",
    "    input = Variable(x_train[id_user]).unsqueeze(0)\n",
    "    target = Variable(x_test[id_user])\n",
    "    if torch.sum(target.data > 0) > 0:\n",
    "        output = sae(input)\n",
    "        target.require_grad = False\n",
    "        output[target == 0] = 0\n",
    "        loss = criterion(output, target)\n",
    "        mean_corrector = nb_movies/float(torch.sum(target.data > 0) + 1e-10)\n",
    "        test_loss += np.sqrt(loss.data[0]*mean_corrector)\n",
    "        s += 1.\n",
    "print('test loss: '+str(test_loss/s))"
   ]
  },
  {
   "cell_type": "code",
   "execution_count": null,
   "metadata": {},
   "outputs": [],
   "source": []
  }
 ],
 "metadata": {
  "kernelspec": {
   "display_name": "Python 3",
   "language": "python",
   "name": "python3"
  },
  "language_info": {
   "codemirror_mode": {
    "name": "ipython",
    "version": 3
   },
   "file_extension": ".py",
   "mimetype": "text/x-python",
   "name": "python",
   "nbconvert_exporter": "python",
   "pygments_lexer": "ipython3",
   "version": "3.7.7"
  }
 },
 "nbformat": 4,
 "nbformat_minor": 4
}
