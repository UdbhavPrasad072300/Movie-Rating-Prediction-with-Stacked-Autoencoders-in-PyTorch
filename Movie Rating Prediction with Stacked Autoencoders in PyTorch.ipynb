{
 "cells": [
  {
   "cell_type": "markdown",
   "metadata": {},
   "source": [
    "# Movie Rating Prediction with Stacked Autoencoders in PyTorch"
   ]
  },
  {
   "cell_type": "code",
   "execution_count": 1,
   "metadata": {},
   "outputs": [],
   "source": [
    "import numpy as np\n",
    "import pandas as pd\n",
    "\n",
    "import torch\n",
    "import torch.nn as nn\n",
    "import torch.nn.parallel\n",
    "import torch.optim as optim\n",
    "import torch.utils.data\n",
    "from torch.autograd import Variable\n",
    "\n",
    "from sklearn.model_selection import train_test_split"
   ]
  },
  {
   "cell_type": "code",
   "execution_count": 2,
   "metadata": {},
   "outputs": [
    {
     "name": "stdout",
     "output_type": "stream",
     "text": [
      "cuda\n"
     ]
    }
   ],
   "source": [
    "device = torch.device(\"cuda\" if torch.cuda.is_available() else \"cpu\")\n",
    "print(device)"
   ]
  },
  {
   "cell_type": "code",
   "execution_count": 3,
   "metadata": {},
   "outputs": [],
   "source": [
    "ratings = pd.read_csv('ratings_small.csv')#, engine = 'python')"
   ]
  },
  {
   "cell_type": "code",
   "execution_count": 4,
   "metadata": {
    "scrolled": false
   },
   "outputs": [
    {
     "data": {
      "text/html": [
       "<div>\n",
       "<style scoped>\n",
       "    .dataframe tbody tr th:only-of-type {\n",
       "        vertical-align: middle;\n",
       "    }\n",
       "\n",
       "    .dataframe tbody tr th {\n",
       "        vertical-align: top;\n",
       "    }\n",
       "\n",
       "    .dataframe thead th {\n",
       "        text-align: right;\n",
       "    }\n",
       "</style>\n",
       "<table border=\"1\" class=\"dataframe\">\n",
       "  <thead>\n",
       "    <tr style=\"text-align: right;\">\n",
       "      <th></th>\n",
       "      <th>userId</th>\n",
       "      <th>movieId</th>\n",
       "      <th>rating</th>\n",
       "      <th>timestamp</th>\n",
       "    </tr>\n",
       "  </thead>\n",
       "  <tbody>\n",
       "    <tr>\n",
       "      <th>0</th>\n",
       "      <td>1</td>\n",
       "      <td>31</td>\n",
       "      <td>2.5</td>\n",
       "      <td>1260759144</td>\n",
       "    </tr>\n",
       "    <tr>\n",
       "      <th>1</th>\n",
       "      <td>1</td>\n",
       "      <td>1029</td>\n",
       "      <td>3.0</td>\n",
       "      <td>1260759179</td>\n",
       "    </tr>\n",
       "    <tr>\n",
       "      <th>2</th>\n",
       "      <td>1</td>\n",
       "      <td>1061</td>\n",
       "      <td>3.0</td>\n",
       "      <td>1260759182</td>\n",
       "    </tr>\n",
       "    <tr>\n",
       "      <th>3</th>\n",
       "      <td>1</td>\n",
       "      <td>1129</td>\n",
       "      <td>2.0</td>\n",
       "      <td>1260759185</td>\n",
       "    </tr>\n",
       "    <tr>\n",
       "      <th>4</th>\n",
       "      <td>1</td>\n",
       "      <td>1172</td>\n",
       "      <td>4.0</td>\n",
       "      <td>1260759205</td>\n",
       "    </tr>\n",
       "  </tbody>\n",
       "</table>\n",
       "</div>"
      ],
      "text/plain": [
       "   userId  movieId  rating   timestamp\n",
       "0       1       31     2.5  1260759144\n",
       "1       1     1029     3.0  1260759179\n",
       "2       1     1061     3.0  1260759182\n",
       "3       1     1129     2.0  1260759185\n",
       "4       1     1172     4.0  1260759205"
      ]
     },
     "execution_count": 4,
     "metadata": {},
     "output_type": "execute_result"
    }
   ],
   "source": [
    "ratings.head()"
   ]
  },
  {
   "cell_type": "code",
   "execution_count": 5,
   "metadata": {},
   "outputs": [
    {
     "data": {
      "text/html": [
       "<div>\n",
       "<style scoped>\n",
       "    .dataframe tbody tr th:only-of-type {\n",
       "        vertical-align: middle;\n",
       "    }\n",
       "\n",
       "    .dataframe tbody tr th {\n",
       "        vertical-align: top;\n",
       "    }\n",
       "\n",
       "    .dataframe thead th {\n",
       "        text-align: right;\n",
       "    }\n",
       "</style>\n",
       "<table border=\"1\" class=\"dataframe\">\n",
       "  <thead>\n",
       "    <tr style=\"text-align: right;\">\n",
       "      <th></th>\n",
       "      <th>userId</th>\n",
       "      <th>movieId</th>\n",
       "      <th>rating</th>\n",
       "    </tr>\n",
       "  </thead>\n",
       "  <tbody>\n",
       "    <tr>\n",
       "      <th>0</th>\n",
       "      <td>1</td>\n",
       "      <td>31</td>\n",
       "      <td>2.5</td>\n",
       "    </tr>\n",
       "    <tr>\n",
       "      <th>1</th>\n",
       "      <td>1</td>\n",
       "      <td>1029</td>\n",
       "      <td>3.0</td>\n",
       "    </tr>\n",
       "    <tr>\n",
       "      <th>2</th>\n",
       "      <td>1</td>\n",
       "      <td>1061</td>\n",
       "      <td>3.0</td>\n",
       "    </tr>\n",
       "    <tr>\n",
       "      <th>3</th>\n",
       "      <td>1</td>\n",
       "      <td>1129</td>\n",
       "      <td>2.0</td>\n",
       "    </tr>\n",
       "    <tr>\n",
       "      <th>4</th>\n",
       "      <td>1</td>\n",
       "      <td>1172</td>\n",
       "      <td>4.0</td>\n",
       "    </tr>\n",
       "    <tr>\n",
       "      <th>...</th>\n",
       "      <td>...</td>\n",
       "      <td>...</td>\n",
       "      <td>...</td>\n",
       "    </tr>\n",
       "    <tr>\n",
       "      <th>99999</th>\n",
       "      <td>671</td>\n",
       "      <td>6268</td>\n",
       "      <td>2.5</td>\n",
       "    </tr>\n",
       "    <tr>\n",
       "      <th>100000</th>\n",
       "      <td>671</td>\n",
       "      <td>6269</td>\n",
       "      <td>4.0</td>\n",
       "    </tr>\n",
       "    <tr>\n",
       "      <th>100001</th>\n",
       "      <td>671</td>\n",
       "      <td>6365</td>\n",
       "      <td>4.0</td>\n",
       "    </tr>\n",
       "    <tr>\n",
       "      <th>100002</th>\n",
       "      <td>671</td>\n",
       "      <td>6385</td>\n",
       "      <td>2.5</td>\n",
       "    </tr>\n",
       "    <tr>\n",
       "      <th>100003</th>\n",
       "      <td>671</td>\n",
       "      <td>6565</td>\n",
       "      <td>3.5</td>\n",
       "    </tr>\n",
       "  </tbody>\n",
       "</table>\n",
       "<p>100004 rows × 3 columns</p>\n",
       "</div>"
      ],
      "text/plain": [
       "        userId  movieId  rating\n",
       "0            1       31     2.5\n",
       "1            1     1029     3.0\n",
       "2            1     1061     3.0\n",
       "3            1     1129     2.0\n",
       "4            1     1172     4.0\n",
       "...        ...      ...     ...\n",
       "99999      671     6268     2.5\n",
       "100000     671     6269     4.0\n",
       "100001     671     6365     4.0\n",
       "100002     671     6385     2.5\n",
       "100003     671     6565     3.5\n",
       "\n",
       "[100004 rows x 3 columns]"
      ]
     },
     "execution_count": 5,
     "metadata": {},
     "output_type": "execute_result"
    }
   ],
   "source": [
    "ratings.drop([\"timestamp\"], axis=1)"
   ]
  },
  {
   "cell_type": "code",
   "execution_count": 6,
   "metadata": {
    "scrolled": true
   },
   "outputs": [
    {
     "data": {
      "text/plain": [
       "163949"
      ]
     },
     "execution_count": 6,
     "metadata": {},
     "output_type": "execute_result"
    }
   ],
   "source": [
    "movieMax = max(ratings[\"movieId\"])\n",
    "movieMax"
   ]
  },
  {
   "cell_type": "code",
   "execution_count": 7,
   "metadata": {},
   "outputs": [
    {
     "data": {
      "text/plain": [
       "671"
      ]
     },
     "execution_count": 7,
     "metadata": {},
     "output_type": "execute_result"
    }
   ],
   "source": [
    "userMax = max(ratings[\"userId\"])\n",
    "userMax"
   ]
  },
  {
   "cell_type": "code",
   "execution_count": 8,
   "metadata": {},
   "outputs": [
    {
     "data": {
      "text/html": [
       "<div>\n",
       "<style scoped>\n",
       "    .dataframe tbody tr th:only-of-type {\n",
       "        vertical-align: middle;\n",
       "    }\n",
       "\n",
       "    .dataframe tbody tr th {\n",
       "        vertical-align: top;\n",
       "    }\n",
       "\n",
       "    .dataframe thead th {\n",
       "        text-align: right;\n",
       "    }\n",
       "</style>\n",
       "<table border=\"1\" class=\"dataframe\">\n",
       "  <thead>\n",
       "    <tr style=\"text-align: right;\">\n",
       "      <th></th>\n",
       "      <th>userId</th>\n",
       "      <th>movieId</th>\n",
       "      <th>rating</th>\n",
       "      <th>timestamp</th>\n",
       "    </tr>\n",
       "  </thead>\n",
       "  <tbody>\n",
       "    <tr>\n",
       "      <th>147</th>\n",
       "      <td>4</td>\n",
       "      <td>10</td>\n",
       "      <td>4.0</td>\n",
       "      <td>949810645</td>\n",
       "    </tr>\n",
       "    <tr>\n",
       "      <th>148</th>\n",
       "      <td>4</td>\n",
       "      <td>34</td>\n",
       "      <td>5.0</td>\n",
       "      <td>949919556</td>\n",
       "    </tr>\n",
       "    <tr>\n",
       "      <th>149</th>\n",
       "      <td>4</td>\n",
       "      <td>112</td>\n",
       "      <td>5.0</td>\n",
       "      <td>949810582</td>\n",
       "    </tr>\n",
       "    <tr>\n",
       "      <th>150</th>\n",
       "      <td>4</td>\n",
       "      <td>141</td>\n",
       "      <td>5.0</td>\n",
       "      <td>949919681</td>\n",
       "    </tr>\n",
       "    <tr>\n",
       "      <th>151</th>\n",
       "      <td>4</td>\n",
       "      <td>153</td>\n",
       "      <td>4.0</td>\n",
       "      <td>949811346</td>\n",
       "    </tr>\n",
       "    <tr>\n",
       "      <th>...</th>\n",
       "      <td>...</td>\n",
       "      <td>...</td>\n",
       "      <td>...</td>\n",
       "      <td>...</td>\n",
       "    </tr>\n",
       "    <tr>\n",
       "      <th>346</th>\n",
       "      <td>4</td>\n",
       "      <td>3251</td>\n",
       "      <td>5.0</td>\n",
       "      <td>949918970</td>\n",
       "    </tr>\n",
       "    <tr>\n",
       "      <th>347</th>\n",
       "      <td>4</td>\n",
       "      <td>3255</td>\n",
       "      <td>4.0</td>\n",
       "      <td>949919738</td>\n",
       "    </tr>\n",
       "    <tr>\n",
       "      <th>348</th>\n",
       "      <td>4</td>\n",
       "      <td>3263</td>\n",
       "      <td>3.0</td>\n",
       "      <td>949919845</td>\n",
       "    </tr>\n",
       "    <tr>\n",
       "      <th>349</th>\n",
       "      <td>4</td>\n",
       "      <td>3265</td>\n",
       "      <td>5.0</td>\n",
       "      <td>949895732</td>\n",
       "    </tr>\n",
       "    <tr>\n",
       "      <th>350</th>\n",
       "      <td>4</td>\n",
       "      <td>4006</td>\n",
       "      <td>2.0</td>\n",
       "      <td>949982238</td>\n",
       "    </tr>\n",
       "  </tbody>\n",
       "</table>\n",
       "<p>204 rows × 4 columns</p>\n",
       "</div>"
      ],
      "text/plain": [
       "     userId  movieId  rating  timestamp\n",
       "147       4       10     4.0  949810645\n",
       "148       4       34     5.0  949919556\n",
       "149       4      112     5.0  949810582\n",
       "150       4      141     5.0  949919681\n",
       "151       4      153     4.0  949811346\n",
       "..      ...      ...     ...        ...\n",
       "346       4     3251     5.0  949918970\n",
       "347       4     3255     4.0  949919738\n",
       "348       4     3263     3.0  949919845\n",
       "349       4     3265     5.0  949895732\n",
       "350       4     4006     2.0  949982238\n",
       "\n",
       "[204 rows x 4 columns]"
      ]
     },
     "execution_count": 8,
     "metadata": {},
     "output_type": "execute_result"
    }
   ],
   "source": [
    "user1 = ratings.loc[ratings[\"userId\"] == 4]\n",
    "user1"
   ]
  },
  {
   "cell_type": "code",
   "execution_count": 9,
   "metadata": {},
   "outputs": [
    {
     "data": {
      "text/plain": [
       "1"
      ]
     },
     "execution_count": 9,
     "metadata": {},
     "output_type": "execute_result"
    }
   ],
   "source": [
    "movieMin = min(ratings[\"movieId\"])\n",
    "movieMin"
   ]
  },
  {
   "cell_type": "code",
   "execution_count": 10,
   "metadata": {},
   "outputs": [
    {
     "data": {
      "text/plain": [
       "20     10\n",
       "21     17\n",
       "22     39\n",
       "23     47\n",
       "24     50\n",
       "     ... \n",
       "91    592\n",
       "92    593\n",
       "93    616\n",
       "94    661\n",
       "95    720\n",
       "Name: movieId, Length: 76, dtype: int64"
      ]
     },
     "execution_count": 10,
     "metadata": {},
     "output_type": "execute_result"
    }
   ],
   "source": [
    "id_movies = ratings.loc[ratings[\"userId\"] == 2][\"movieId\"]\n",
    "id_movies"
   ]
  },
  {
   "cell_type": "code",
   "execution_count": 11,
   "metadata": {
    "scrolled": true
   },
   "outputs": [
    {
     "data": {
      "text/plain": [
       "[4.0,\n",
       " 5.0,\n",
       " 5.0,\n",
       " 4.0,\n",
       " 4.0,\n",
       " 3.0,\n",
       " 3.0,\n",
       " 4.0,\n",
       " 3.0,\n",
       " 5.0,\n",
       " 4.0,\n",
       " 3.0,\n",
       " 3.0,\n",
       " 3.0,\n",
       " 3.0,\n",
       " 3.0,\n",
       " 3.0,\n",
       " 5.0,\n",
       " 1.0,\n",
       " 3.0,\n",
       " 3.0,\n",
       " 3.0,\n",
       " 4.0,\n",
       " 4.0,\n",
       " 5.0,\n",
       " 5.0,\n",
       " 3.0,\n",
       " 4.0,\n",
       " 3.0,\n",
       " 4.0,\n",
       " 3.0,\n",
       " 4.0,\n",
       " 2.0,\n",
       " 1.0,\n",
       " 3.0,\n",
       " 4.0,\n",
       " 4.0,\n",
       " 3.0,\n",
       " 3.0,\n",
       " 3.0,\n",
       " 3.0,\n",
       " 2.0,\n",
       " 3.0,\n",
       " 3.0,\n",
       " 3.0,\n",
       " 3.0,\n",
       " 2.0,\n",
       " 3.0,\n",
       " 4.0,\n",
       " 3.0,\n",
       " 4.0,\n",
       " 2.0,\n",
       " 4.0,\n",
       " 3.0,\n",
       " 3.0,\n",
       " 4.0,\n",
       " 4.0,\n",
       " 4.0,\n",
       " 4.0,\n",
       " 4.0,\n",
       " 4.0,\n",
       " 3.0,\n",
       " 3.0,\n",
       " 5.0,\n",
       " 3.0,\n",
       " 5.0,\n",
       " 3.0,\n",
       " 3.0,\n",
       " 3.0,\n",
       " 5.0,\n",
       " 5.0,\n",
       " 5.0,\n",
       " 3.0,\n",
       " 3.0,\n",
       " 4.0,\n",
       " 4.0]"
      ]
     },
     "execution_count": 11,
     "metadata": {},
     "output_type": "execute_result"
    }
   ],
   "source": [
    "id_ratings = list(ratings.loc[ratings[\"userId\"] == 2][\"rating\"])\n",
    "id_ratings"
   ]
  },
  {
   "cell_type": "code",
   "execution_count": 12,
   "metadata": {},
   "outputs": [],
   "source": [
    "def convert(data):\n",
    "    new_data = []\n",
    "    for user in range(1, max(ratings[\"userId\"]+1)):\n",
    "        id_movies = data.loc[ratings[\"userId\"] == user][\"movieId\"]\n",
    "        id_ratings = data.loc[ratings[\"userId\"] == user][\"rating\"]\n",
    "        userRatings = np.zeros(movieMax)\n",
    "        userRatings[id_movies-1] = id_ratings\n",
    "        new_data.append(userRatings)\n",
    "    return(new_data)"
   ]
  },
  {
   "cell_type": "code",
   "execution_count": 13,
   "metadata": {},
   "outputs": [],
   "source": [
    "ratings = convert(ratings)"
   ]
  },
  {
   "cell_type": "code",
   "execution_count": 14,
   "metadata": {
    "scrolled": false
   },
   "outputs": [
    {
     "data": {
      "text/plain": [
       "array([[0., 0., 0., ..., 0., 0., 0.],\n",
       "       [0., 0., 0., ..., 0., 0., 0.],\n",
       "       [0., 0., 0., ..., 0., 0., 0.],\n",
       "       ...,\n",
       "       [0., 0., 0., ..., 0., 0., 0.],\n",
       "       [4., 0., 0., ..., 0., 0., 0.],\n",
       "       [5., 0., 0., ..., 0., 0., 0.]])"
      ]
     },
     "execution_count": 14,
     "metadata": {},
     "output_type": "execute_result"
    }
   ],
   "source": [
    "ratings = np.asarray(ratings)\n",
    "ratings"
   ]
  },
  {
   "cell_type": "code",
   "execution_count": 15,
   "metadata": {},
   "outputs": [],
   "source": [
    "x_train ,x_test = train_test_split(ratings, test_size=0.2)"
   ]
  },
  {
   "cell_type": "code",
   "execution_count": 16,
   "metadata": {},
   "outputs": [
    {
     "data": {
      "text/plain": [
       "163949"
      ]
     },
     "execution_count": 16,
     "metadata": {},
     "output_type": "execute_result"
    }
   ],
   "source": [
    "len(x_train[1])"
   ]
  },
  {
   "cell_type": "code",
   "execution_count": 17,
   "metadata": {
    "scrolled": true
   },
   "outputs": [
    {
     "data": {
      "text/plain": [
       "135"
      ]
     },
     "execution_count": 17,
     "metadata": {},
     "output_type": "execute_result"
    }
   ],
   "source": [
    "len(x_test)"
   ]
  },
  {
   "cell_type": "code",
   "execution_count": 18,
   "metadata": {},
   "outputs": [],
   "source": [
    "x_train = torch.Tensor(x_train)\n",
    "x_test= torch.Tensor(x_test)"
   ]
  },
  {
   "cell_type": "code",
   "execution_count": 19,
   "metadata": {},
   "outputs": [],
   "source": [
    "class SAE(nn.Module):\n",
    "    def __init__(self, nb_movies):\n",
    "        super(SAE, self).__init__()\n",
    "        self.fc1 = nn.Linear(nb_movies, 20)\n",
    "        self.fc2 = nn.Linear(20, 10)\n",
    "        self.fc3 = nn.Linear(10, 20)\n",
    "        self.fc4 = nn.Linear(20, nb_movies)\n",
    "        self.activation = nn.Sigmoid()\n",
    "    def forward(self, x):\n",
    "        x = self.activation(self.fc1(x))\n",
    "        x = self.activation(self.fc2(x))\n",
    "        x = self.activation(self.fc3(x))\n",
    "        x = self.fc4(x)\n",
    "        return x"
   ]
  },
  {
   "cell_type": "code",
   "execution_count": 20,
   "metadata": {},
   "outputs": [],
   "source": [
    "sae = SAE(movieMax)"
   ]
  },
  {
   "cell_type": "code",
   "execution_count": 21,
   "metadata": {},
   "outputs": [
    {
     "data": {
      "text/plain": [
       "SAE(\n",
       "  (fc1): Linear(in_features=163949, out_features=20, bias=True)\n",
       "  (fc2): Linear(in_features=20, out_features=10, bias=True)\n",
       "  (fc3): Linear(in_features=10, out_features=20, bias=True)\n",
       "  (fc4): Linear(in_features=20, out_features=163949, bias=True)\n",
       "  (activation): Sigmoid()\n",
       ")"
      ]
     },
     "execution_count": 21,
     "metadata": {},
     "output_type": "execute_result"
    }
   ],
   "source": [
    "sae.to(device)"
   ]
  },
  {
   "cell_type": "code",
   "execution_count": 22,
   "metadata": {},
   "outputs": [],
   "source": [
    "criterion = nn.MSELoss()\n",
    "optimizer = optim.RMSprop(sae.parameters(), lr = 0.01, weight_decay = 0.5)"
   ]
  },
  {
   "cell_type": "code",
   "execution_count": 23,
   "metadata": {
    "scrolled": false
   },
   "outputs": [
    {
     "data": {
      "text/plain": [
       "536"
      ]
     },
     "execution_count": 23,
     "metadata": {},
     "output_type": "execute_result"
    }
   ],
   "source": [
    "len(x_train)"
   ]
  },
  {
   "cell_type": "code",
   "execution_count": 24,
   "metadata": {},
   "outputs": [],
   "source": [
    "x_train = Variable(x_train).unsqueeze(0)"
   ]
  },
  {
   "cell_type": "code",
   "execution_count": 25,
   "metadata": {},
   "outputs": [],
   "source": [
    "y_train = x_train.clone()"
   ]
  },
  {
   "cell_type": "code",
   "execution_count": 26,
   "metadata": {
    "scrolled": false
   },
   "outputs": [
    {
     "data": {
      "text/plain": [
       "True"
      ]
     },
     "execution_count": 26,
     "metadata": {},
     "output_type": "execute_result"
    }
   ],
   "source": [
    "y_train = y_train.cuda()\n",
    "y_train.is_cuda"
   ]
  },
  {
   "cell_type": "code",
   "execution_count": 27,
   "metadata": {},
   "outputs": [
    {
     "data": {
      "text/plain": [
       "True"
      ]
     },
     "execution_count": 27,
     "metadata": {},
     "output_type": "execute_result"
    }
   ],
   "source": [
    "x_test = x_test.cuda()\n",
    "x_test.is_cuda"
   ]
  },
  {
   "cell_type": "code",
   "execution_count": 28,
   "metadata": {},
   "outputs": [
    {
     "data": {
      "text/plain": [
       "True"
      ]
     },
     "execution_count": 28,
     "metadata": {},
     "output_type": "execute_result"
    }
   ],
   "source": [
    "x_train = x_train.cuda()\n",
    "x_train.is_cuda"
   ]
  },
  {
   "cell_type": "code",
   "execution_count": 29,
   "metadata": {},
   "outputs": [
    {
     "data": {
      "text/plain": [
       "True"
      ]
     },
     "execution_count": 29,
     "metadata": {},
     "output_type": "execute_result"
    }
   ],
   "source": [
    "next(sae.parameters()).is_cuda "
   ]
  },
  {
   "cell_type": "code",
   "execution_count": 30,
   "metadata": {
    "scrolled": false
   },
   "outputs": [
    {
     "name": "stdout",
     "output_type": "stream",
     "text": [
      "epoch: 1 loss: tensor(0.1592, device='cuda:0')\n",
      "epoch: 2 loss: tensor(0.1588, device='cuda:0')\n",
      "epoch: 3 loss: tensor(0.1586, device='cuda:0')\n",
      "epoch: 4 loss: tensor(0.1586, device='cuda:0')\n",
      "epoch: 5 loss: tensor(0.1586, device='cuda:0')\n",
      "epoch: 6 loss: tensor(0.1586, device='cuda:0')\n",
      "epoch: 7 loss: tensor(0.1586, device='cuda:0')\n",
      "epoch: 8 loss: tensor(0.1586, device='cuda:0')\n",
      "epoch: 9 loss: tensor(0.1586, device='cuda:0')\n",
      "epoch: 10 loss: tensor(0.1586, device='cuda:0')\n",
      "epoch: 11 loss: tensor(0.1586, device='cuda:0')\n",
      "epoch: 12 loss: tensor(0.1586, device='cuda:0')\n",
      "epoch: 13 loss: tensor(0.1586, device='cuda:0')\n",
      "epoch: 14 loss: tensor(0.1586, device='cuda:0')\n",
      "epoch: 15 loss: tensor(0.1586, device='cuda:0')\n",
      "epoch: 16 loss: tensor(0.1586, device='cuda:0')\n",
      "epoch: 17 loss: tensor(0.1586, device='cuda:0')\n",
      "epoch: 18 loss: tensor(0.1586, device='cuda:0')\n",
      "epoch: 19 loss: tensor(0.1586, device='cuda:0')\n",
      "epoch: 20 loss: tensor(0.1585, device='cuda:0')\n",
      "epoch: 21 loss: tensor(0.1585, device='cuda:0')\n",
      "epoch: 22 loss: tensor(0.1585, device='cuda:0')\n",
      "epoch: 23 loss: tensor(0.1585, device='cuda:0')\n",
      "epoch: 24 loss: tensor(0.1585, device='cuda:0')\n",
      "epoch: 25 loss: tensor(0.1585, device='cuda:0')\n",
      "epoch: 26 loss: tensor(0.1585, device='cuda:0')\n",
      "epoch: 27 loss: tensor(0.1585, device='cuda:0')\n",
      "epoch: 28 loss: tensor(0.1585, device='cuda:0')\n",
      "epoch: 29 loss: tensor(0.1585, device='cuda:0')\n",
      "epoch: 30 loss: tensor(0.1585, device='cuda:0')\n",
      "epoch: 31 loss: tensor(0.1585, device='cuda:0')\n",
      "epoch: 32 loss: tensor(0.1585, device='cuda:0')\n",
      "epoch: 33 loss: tensor(0.1585, device='cuda:0')\n",
      "epoch: 34 loss: tensor(0.1585, device='cuda:0')\n",
      "epoch: 35 loss: tensor(0.1585, device='cuda:0')\n",
      "epoch: 36 loss: tensor(0.1585, device='cuda:0')\n",
      "epoch: 37 loss: tensor(0.1585, device='cuda:0')\n",
      "epoch: 38 loss: tensor(0.1585, device='cuda:0')\n",
      "epoch: 39 loss: tensor(0.1585, device='cuda:0')\n",
      "epoch: 40 loss: tensor(0.1585, device='cuda:0')\n",
      "epoch: 41 loss: tensor(0.1585, device='cuda:0')\n",
      "epoch: 42 loss: tensor(0.1585, device='cuda:0')\n",
      "epoch: 43 loss: tensor(0.1585, device='cuda:0')\n",
      "epoch: 44 loss: tensor(0.1585, device='cuda:0')\n",
      "epoch: 45 loss: tensor(0.1585, device='cuda:0')\n",
      "epoch: 46 loss: tensor(0.1585, device='cuda:0')\n",
      "epoch: 47 loss: tensor(0.1585, device='cuda:0')\n",
      "epoch: 48 loss: tensor(0.1585, device='cuda:0')\n",
      "epoch: 49 loss: tensor(0.1585, device='cuda:0')\n",
      "epoch: 50 loss: tensor(0.1585, device='cuda:0')\n",
      "epoch: 51 loss: tensor(0.1585, device='cuda:0')\n",
      "epoch: 52 loss: tensor(0.1585, device='cuda:0')\n",
      "epoch: 53 loss: tensor(0.1585, device='cuda:0')\n",
      "epoch: 54 loss: tensor(0.1585, device='cuda:0')\n",
      "epoch: 55 loss: tensor(0.1585, device='cuda:0')\n",
      "epoch: 56 loss: tensor(0.1585, device='cuda:0')\n",
      "epoch: 57 loss: tensor(0.1585, device='cuda:0')\n",
      "epoch: 58 loss: tensor(0.1585, device='cuda:0')\n",
      "epoch: 59 loss: tensor(0.1585, device='cuda:0')\n",
      "epoch: 60 loss: tensor(0.1585, device='cuda:0')\n",
      "epoch: 61 loss: tensor(0.1585, device='cuda:0')\n",
      "epoch: 62 loss: tensor(0.1585, device='cuda:0')\n",
      "epoch: 63 loss: tensor(0.1584, device='cuda:0')\n",
      "epoch: 64 loss: tensor(0.1584, device='cuda:0')\n",
      "epoch: 65 loss: tensor(0.1584, device='cuda:0')\n",
      "epoch: 66 loss: tensor(0.1584, device='cuda:0')\n",
      "epoch: 67 loss: tensor(0.1584, device='cuda:0')\n",
      "epoch: 68 loss: tensor(0.1584, device='cuda:0')\n",
      "epoch: 69 loss: tensor(0.1584, device='cuda:0')\n",
      "epoch: 70 loss: tensor(0.1584, device='cuda:0')\n",
      "epoch: 71 loss: tensor(0.1584, device='cuda:0')\n",
      "epoch: 72 loss: tensor(0.1584, device='cuda:0')\n",
      "epoch: 73 loss: tensor(0.1584, device='cuda:0')\n",
      "epoch: 74 loss: tensor(0.1584, device='cuda:0')\n",
      "epoch: 75 loss: tensor(0.1584, device='cuda:0')\n",
      "epoch: 76 loss: tensor(0.1584, device='cuda:0')\n",
      "epoch: 77 loss: tensor(0.1584, device='cuda:0')\n",
      "epoch: 78 loss: tensor(0.1584, device='cuda:0')\n",
      "epoch: 79 loss: tensor(0.1584, device='cuda:0')\n",
      "epoch: 80 loss: tensor(0.1584, device='cuda:0')\n",
      "epoch: 81 loss: tensor(0.1584, device='cuda:0')\n",
      "epoch: 82 loss: tensor(0.1584, device='cuda:0')\n",
      "epoch: 83 loss: tensor(0.1584, device='cuda:0')\n",
      "epoch: 84 loss: tensor(0.1584, device='cuda:0')\n",
      "epoch: 85 loss: tensor(0.1584, device='cuda:0')\n",
      "epoch: 86 loss: tensor(0.1584, device='cuda:0')\n",
      "epoch: 87 loss: tensor(0.1584, device='cuda:0')\n",
      "epoch: 88 loss: tensor(0.1584, device='cuda:0')\n",
      "epoch: 89 loss: tensor(0.1584, device='cuda:0')\n",
      "epoch: 90 loss: tensor(0.1584, device='cuda:0')\n",
      "epoch: 91 loss: tensor(0.1584, device='cuda:0')\n",
      "epoch: 92 loss: tensor(0.1584, device='cuda:0')\n",
      "epoch: 93 loss: tensor(0.1584, device='cuda:0')\n",
      "epoch: 94 loss: tensor(0.1584, device='cuda:0')\n",
      "epoch: 95 loss: tensor(0.1584, device='cuda:0')\n",
      "epoch: 96 loss: tensor(0.1584, device='cuda:0')\n",
      "epoch: 97 loss: tensor(0.1584, device='cuda:0')\n",
      "epoch: 98 loss: tensor(0.1584, device='cuda:0')\n",
      "epoch: 99 loss: tensor(0.1584, device='cuda:0')\n",
      "epoch: 100 loss: tensor(0.1584, device='cuda:0')\n",
      "epoch: 101 loss: tensor(0.1584, device='cuda:0')\n",
      "epoch: 102 loss: tensor(0.1584, device='cuda:0')\n",
      "epoch: 103 loss: tensor(0.1584, device='cuda:0')\n",
      "epoch: 104 loss: tensor(0.1584, device='cuda:0')\n",
      "epoch: 105 loss: tensor(0.1584, device='cuda:0')\n",
      "epoch: 106 loss: tensor(0.1584, device='cuda:0')\n",
      "epoch: 107 loss: tensor(0.1583, device='cuda:0')\n",
      "epoch: 108 loss: tensor(0.1583, device='cuda:0')\n",
      "epoch: 109 loss: tensor(0.1583, device='cuda:0')\n",
      "epoch: 110 loss: tensor(0.1583, device='cuda:0')\n",
      "epoch: 111 loss: tensor(0.1583, device='cuda:0')\n",
      "epoch: 112 loss: tensor(0.1583, device='cuda:0')\n",
      "epoch: 113 loss: tensor(0.1583, device='cuda:0')\n",
      "epoch: 114 loss: tensor(0.1583, device='cuda:0')\n",
      "epoch: 115 loss: tensor(0.1583, device='cuda:0')\n",
      "epoch: 116 loss: tensor(0.1583, device='cuda:0')\n",
      "epoch: 117 loss: tensor(0.1583, device='cuda:0')\n",
      "epoch: 118 loss: tensor(0.1583, device='cuda:0')\n",
      "epoch: 119 loss: tensor(0.1583, device='cuda:0')\n",
      "epoch: 120 loss: tensor(0.1583, device='cuda:0')\n",
      "epoch: 121 loss: tensor(0.1583, device='cuda:0')\n",
      "epoch: 122 loss: tensor(0.1583, device='cuda:0')\n",
      "epoch: 123 loss: tensor(0.1583, device='cuda:0')\n",
      "epoch: 124 loss: tensor(0.1583, device='cuda:0')\n",
      "epoch: 125 loss: tensor(0.1583, device='cuda:0')\n",
      "epoch: 126 loss: tensor(0.1583, device='cuda:0')\n",
      "epoch: 127 loss: tensor(0.1583, device='cuda:0')\n",
      "epoch: 128 loss: tensor(0.1583, device='cuda:0')\n",
      "epoch: 129 loss: tensor(0.1583, device='cuda:0')\n",
      "epoch: 130 loss: tensor(0.1583, device='cuda:0')\n",
      "epoch: 131 loss: tensor(0.1583, device='cuda:0')\n",
      "epoch: 132 loss: tensor(0.1583, device='cuda:0')\n",
      "epoch: 133 loss: tensor(0.1583, device='cuda:0')\n",
      "epoch: 134 loss: tensor(0.1583, device='cuda:0')\n",
      "epoch: 135 loss: tensor(0.1583, device='cuda:0')\n",
      "epoch: 136 loss: tensor(0.1583, device='cuda:0')\n",
      "epoch: 137 loss: tensor(0.1583, device='cuda:0')\n",
      "epoch: 138 loss: tensor(0.1583, device='cuda:0')\n",
      "epoch: 139 loss: tensor(0.1583, device='cuda:0')\n",
      "epoch: 140 loss: tensor(0.1583, device='cuda:0')\n",
      "epoch: 141 loss: tensor(0.1583, device='cuda:0')\n",
      "epoch: 142 loss: tensor(0.1583, device='cuda:0')\n",
      "epoch: 143 loss: tensor(0.1583, device='cuda:0')\n",
      "epoch: 144 loss: tensor(0.1583, device='cuda:0')\n",
      "epoch: 145 loss: tensor(0.1583, device='cuda:0')\n",
      "epoch: 146 loss: tensor(0.1583, device='cuda:0')\n",
      "epoch: 147 loss: tensor(0.1583, device='cuda:0')\n",
      "epoch: 148 loss: tensor(0.1583, device='cuda:0')\n",
      "epoch: 149 loss: tensor(0.1583, device='cuda:0')\n",
      "epoch: 150 loss: tensor(0.1582, device='cuda:0')\n",
      "epoch: 151 loss: tensor(0.1583, device='cuda:0')\n",
      "epoch: 152 loss: tensor(0.1582, device='cuda:0')\n",
      "epoch: 153 loss: tensor(0.1583, device='cuda:0')\n",
      "epoch: 154 loss: tensor(0.1582, device='cuda:0')\n",
      "epoch: 155 loss: tensor(0.1583, device='cuda:0')\n",
      "epoch: 156 loss: tensor(0.1582, device='cuda:0')\n",
      "epoch: 157 loss: tensor(0.1582, device='cuda:0')\n",
      "epoch: 158 loss: tensor(0.1582, device='cuda:0')\n",
      "epoch: 159 loss: tensor(0.1582, device='cuda:0')\n",
      "epoch: 160 loss: tensor(0.1582, device='cuda:0')\n",
      "epoch: 161 loss: tensor(0.1582, device='cuda:0')\n",
      "epoch: 162 loss: tensor(0.1582, device='cuda:0')\n",
      "epoch: 163 loss: tensor(0.1582, device='cuda:0')\n",
      "epoch: 164 loss: tensor(0.1582, device='cuda:0')\n",
      "epoch: 165 loss: tensor(0.1582, device='cuda:0')\n",
      "epoch: 166 loss: tensor(0.1582, device='cuda:0')\n",
      "epoch: 167 loss: tensor(0.1582, device='cuda:0')\n",
      "epoch: 168 loss: tensor(0.1582, device='cuda:0')\n",
      "epoch: 169 loss: tensor(0.1582, device='cuda:0')\n",
      "epoch: 170 loss: tensor(0.1582, device='cuda:0')\n"
     ]
    },
    {
     "name": "stdout",
     "output_type": "stream",
     "text": [
      "epoch: 171 loss: tensor(0.1582, device='cuda:0')\n",
      "epoch: 172 loss: tensor(0.1582, device='cuda:0')\n",
      "epoch: 173 loss: tensor(0.1582, device='cuda:0')\n",
      "epoch: 174 loss: tensor(0.1582, device='cuda:0')\n",
      "epoch: 175 loss: tensor(0.1582, device='cuda:0')\n",
      "epoch: 176 loss: tensor(0.1582, device='cuda:0')\n",
      "epoch: 177 loss: tensor(0.1582, device='cuda:0')\n",
      "epoch: 178 loss: tensor(0.1582, device='cuda:0')\n",
      "epoch: 179 loss: tensor(0.1582, device='cuda:0')\n",
      "epoch: 180 loss: tensor(0.1582, device='cuda:0')\n",
      "epoch: 181 loss: tensor(0.1582, device='cuda:0')\n",
      "epoch: 182 loss: tensor(0.1582, device='cuda:0')\n",
      "epoch: 183 loss: tensor(0.1582, device='cuda:0')\n",
      "epoch: 184 loss: tensor(0.1582, device='cuda:0')\n",
      "epoch: 185 loss: tensor(0.1582, device='cuda:0')\n",
      "epoch: 186 loss: tensor(0.1582, device='cuda:0')\n",
      "epoch: 187 loss: tensor(0.1581, device='cuda:0')\n",
      "epoch: 188 loss: tensor(0.1582, device='cuda:0')\n",
      "epoch: 189 loss: tensor(0.1581, device='cuda:0')\n",
      "epoch: 190 loss: tensor(0.1582, device='cuda:0')\n",
      "epoch: 191 loss: tensor(0.1581, device='cuda:0')\n",
      "epoch: 192 loss: tensor(0.1582, device='cuda:0')\n",
      "epoch: 193 loss: tensor(0.1581, device='cuda:0')\n",
      "epoch: 194 loss: tensor(0.1582, device='cuda:0')\n",
      "epoch: 195 loss: tensor(0.1581, device='cuda:0')\n",
      "epoch: 196 loss: tensor(0.1582, device='cuda:0')\n",
      "epoch: 197 loss: tensor(0.1581, device='cuda:0')\n",
      "epoch: 198 loss: tensor(0.1582, device='cuda:0')\n",
      "epoch: 199 loss: tensor(0.1581, device='cuda:0')\n",
      "epoch: 200 loss: tensor(0.1582, device='cuda:0')\n"
     ]
    }
   ],
   "source": [
    "nb_epoch = 200\n",
    "for epoch in range(1, nb_epoch + 1):\n",
    "    train_loss = 0\n",
    "    s = 0.\n",
    "    for id_user in range(len(x_train)):\n",
    "        target = x_train[id_user]\n",
    "        input1 = x_train[id_user]\n",
    "        target.to(device)\n",
    "        input1.to(device)\n",
    "        if torch.sum(target.data > 0) > 0:\n",
    "            output = sae(input1)\n",
    "            target.require_grad = False\n",
    "            output[target == 0] = 0\n",
    "            loss = criterion(output, target)\n",
    "            mean_corrector = movieMax/float(torch.sum(target.data > 0) + 1e-10)\n",
    "            loss.backward()\n",
    "            train_loss += torch.sqrt((loss.data)*mean_corrector)\n",
    "            s += 1.\n",
    "            optimizer.step()\n",
    "    print('epoch: '+str(epoch)+' loss: '+str(train_loss/s))"
   ]
  },
  {
   "cell_type": "code",
   "execution_count": 31,
   "metadata": {},
   "outputs": [],
   "source": [
    "#sae.to(\"cpu\")"
   ]
  }
 ],
 "metadata": {
  "kernelspec": {
   "display_name": "Python 3",
   "language": "python",
   "name": "python3"
  },
  "language_info": {
   "codemirror_mode": {
    "name": "ipython",
    "version": 3
   },
   "file_extension": ".py",
   "mimetype": "text/x-python",
   "name": "python",
   "nbconvert_exporter": "python",
   "pygments_lexer": "ipython3",
   "version": "3.7.7"
  }
 },
 "nbformat": 4,
 "nbformat_minor": 4
}
